{
  "nbformat": 4,
  "nbformat_minor": 0,
  "metadata": {
    "colab": {
      "provenance": []
    },
    "kernelspec": {
      "name": "python3",
      "display_name": "Python 3"
    },
    "language_info": {
      "name": "python"
    }
  },
  "cells": [
    {
      "cell_type": "code",
      "execution_count": 3,
      "metadata": {
        "id": "9cvFG1VajdEZ"
      },
      "outputs": [],
      "source": [
        "#pip install pandas\n",
        "import pandas as pd"
      ]
    },
    {
      "cell_type": "code",
      "source": [
        "mydataset = {\n",
        "    'cars':[\"BMW\",\"AUDI\",\"BENZ\"],\n",
        "    'passing':[3,7,2]\n",
        "}\n",
        "\n",
        "b1 = pd.DataFrame(mydataset)\n",
        "\n",
        "print(b1)"
      ],
      "metadata": {
        "colab": {
          "base_uri": "https://localhost:8080/"
        },
        "id": "a0nCWISKksFI",
        "outputId": "01e474fe-eeb6-4989-c870-8a3464cb7616"
      },
      "execution_count": 4,
      "outputs": [
        {
          "output_type": "stream",
          "name": "stdout",
          "text": [
            "   cars  passing\n",
            "0   BMW        3\n",
            "1  AUDI        7\n",
            "2  BENZ        2\n"
          ]
        }
      ]
    },
    {
      "cell_type": "code",
      "source": [
        "print(pd.__version__)"
      ],
      "metadata": {
        "colab": {
          "base_uri": "https://localhost:8080/"
        },
        "id": "CyrHvmlMlZIz",
        "outputId": "7cced04d-e3a1-4d7d-b2f7-e3d386488d36"
      },
      "execution_count": 6,
      "outputs": [
        {
          "output_type": "stream",
          "name": "stdout",
          "text": [
            "1.5.3\n"
          ]
        }
      ]
    },
    {
      "cell_type": "markdown",
      "source": [
        "Series - It is a one-dimensional array holding data of any type."
      ],
      "metadata": {
        "id": "OtkKMmHEr0Ns"
      }
    },
    {
      "cell_type": "code",
      "source": [
        "a=[2,5,7]\n",
        "var =pd.Series(a)\n",
        "var"
      ],
      "metadata": {
        "colab": {
          "base_uri": "https://localhost:8080/"
        },
        "id": "rr_vbfzYr4ZD",
        "outputId": "686baeae-7050-4baa-a997-e6c3a19a6b6d"
      },
      "execution_count": 7,
      "outputs": [
        {
          "output_type": "execute_result",
          "data": {
            "text/plain": [
              "0    2\n",
              "1    5\n",
              "2    7\n",
              "dtype: int64"
            ]
          },
          "metadata": {},
          "execution_count": 7
        }
      ]
    },
    {
      "cell_type": "code",
      "source": [
        "a = [1, 7, 2]\n",
        "myvar = pd.Series(a, index = [\"x\", \"y\", \"z\"])\n",
        "print(myvar)\n",
        "print(myvar[\"y\"])\n",
        "#In this the index are labels which are reffered to acces the elements"
      ],
      "metadata": {
        "colab": {
          "base_uri": "https://localhost:8080/"
        },
        "id": "s49p2gjxtQEl",
        "outputId": "86c71813-401a-4d27-e61a-6cb3a6c121aa"
      },
      "execution_count": 10,
      "outputs": [
        {
          "output_type": "stream",
          "name": "stdout",
          "text": [
            "x    1\n",
            "y    7\n",
            "z    2\n",
            "dtype: int64\n",
            "7\n"
          ]
        }
      ]
    },
    {
      "cell_type": "code",
      "source": [
        "#As of in dataframe we can create it in series and it can be accesed by keys and values\n",
        "\n",
        "calories = {\"day1\": 420, \"day2\": 380, \"day3\": 390}\n",
        "myvar = pd.Series(calories)\n",
        "\n",
        "print(myvar)\n"
      ],
      "metadata": {
        "colab": {
          "base_uri": "https://localhost:8080/"
        },
        "id": "EWZiLiFHuSX1",
        "outputId": "d3d64b55-e155-48d8-80b4-7a146da9026e"
      },
      "execution_count": 9,
      "outputs": [
        {
          "output_type": "stream",
          "name": "stdout",
          "text": [
            "day1    420\n",
            "day2    380\n",
            "day3    390\n",
            "dtype: int64\n"
          ]
        }
      ]
    },
    {
      "cell_type": "code",
      "source": [
        "calories ={\"day_1\" : 420,\"day_2\":300,\"day_3\":390}\n",
        "myvar = pd.Series(calories,index = [\"day_1\",\"day_2\"])"
      ],
      "metadata": {
        "id": "3g09JpO_u_bW"
      },
      "execution_count": 11,
      "outputs": []
    },
    {
      "cell_type": "code",
      "source": [
        "#refer to the row index:\n",
        "print(b1.loc[0])\n",
        "print(b1.loc[0:2])\n"
      ],
      "metadata": {
        "colab": {
          "base_uri": "https://localhost:8080/"
        },
        "id": "C-zIIhAjxJGo",
        "outputId": "2630a99a-6d79-4268-b883-83536c50f275"
      },
      "execution_count": 20,
      "outputs": [
        {
          "output_type": "stream",
          "name": "stdout",
          "text": [
            "   cars  passing\n",
            "0   BMW        3\n",
            "1  AUDI        7\n",
            "2  BENZ        2\n"
          ]
        }
      ]
    },
    {
      "cell_type": "code",
      "source": [
        "data = {\n",
        "  \"calories\": [420, 380, 390],\n",
        "  \"duration\": [50, 40, 45]\n",
        "}\n",
        "b2 = pd.DataFrame(data,index =[\"day1\",\"day2\",\"day3\"])\n",
        "b2"
      ],
      "metadata": {
        "id": "e0_FJudvyXlu"
      },
      "execution_count": 21,
      "outputs": []
    },
    {
      "cell_type": "code",
      "source": [
        "df = pd.read_csv('data.csv')\n",
        "df['Date'] = pd.to_datetime(df['Date'])#changes to datetime of date object\n",
        "print(df.to_string())"
      ],
      "metadata": {
        "id": "S1-2jxLd2FX6"
      },
      "execution_count": null,
      "outputs": []
    },
    {
      "cell_type": "code",
      "source": [
        "df.dropna(subset=['Date'], inplace = True) # drop rows whose date is null"
      ],
      "metadata": {
        "id": "iMywn7AT1_7O"
      },
      "execution_count": null,
      "outputs": []
    },
    {
      "cell_type": "code",
      "source": [
        "df.loc[7, 'Duration'] = 45"
      ],
      "metadata": {
        "id": "HM89gXxXybUa"
      },
      "execution_count": null,
      "outputs": []
    },
    {
      "cell_type": "code",
      "source": [
        "for x in df.index:\n",
        "  if df.loc[x, \"Duration\"] > 120:\n",
        "    df.loc[x, \"Duration\"] = 120"
      ],
      "metadata": {
        "id": "Y7X26Ebv3K3i"
      },
      "execution_count": null,
      "outputs": []
    },
    {
      "cell_type": "code",
      "source": [
        "for x in df.index:\n",
        "  if df.loc[x, \"Duration\"] > 120:\n",
        "    df.drop(x, inplace = True)\n",
        "\n",
        "#The (inplace = True) will make sure that the method does NOT return a new DataFrame, but it will remove all duplicates from the original DataFrame."
      ],
      "metadata": {
        "id": "Yj-4gOY33N10"
      },
      "execution_count": null,
      "outputs": []
    }
  ]
}